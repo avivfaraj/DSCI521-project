{
 "cells": [
  {
   "cell_type": "markdown",
   "metadata": {},
   "source": [
    "# 1. Packages"
   ]
  },
  {
   "cell_type": "code",
   "execution_count": 3,
   "metadata": {},
   "outputs": [],
   "source": [
    "%matplotlib inline\n",
    "import pandas as pd\n",
    "import numpy as np\n",
    "import matplotlib.pyplot as plt"
   ]
  },
  {
   "cell_type": "markdown",
   "metadata": {},
   "source": [
    "# 2. Read Dataset"
   ]
  },
  {
   "cell_type": "code",
   "execution_count": 10,
   "metadata": {},
   "outputs": [
    {
     "data": {
      "text/html": [
       "<div>\n",
       "<style scoped>\n",
       "    .dataframe tbody tr th:only-of-type {\n",
       "        vertical-align: middle;\n",
       "    }\n",
       "\n",
       "    .dataframe tbody tr th {\n",
       "        vertical-align: top;\n",
       "    }\n",
       "\n",
       "    .dataframe thead th {\n",
       "        text-align: right;\n",
       "    }\n",
       "</style>\n",
       "<table border=\"1\" class=\"dataframe\">\n",
       "  <thead>\n",
       "    <tr style=\"text-align: right;\">\n",
       "      <th></th>\n",
       "      <th>age</th>\n",
       "      <th>sex</th>\n",
       "      <th>cp</th>\n",
       "      <th>trestbps</th>\n",
       "      <th>chol</th>\n",
       "      <th>fbs</th>\n",
       "      <th>restecg</th>\n",
       "      <th>thalach</th>\n",
       "      <th>exang</th>\n",
       "      <th>oldpeak</th>\n",
       "      <th>slope</th>\n",
       "      <th>ca</th>\n",
       "      <th>thal</th>\n",
       "      <th>target</th>\n",
       "    </tr>\n",
       "  </thead>\n",
       "  <tbody>\n",
       "    <tr>\n",
       "      <th>1</th>\n",
       "      <td>67</td>\n",
       "      <td>1</td>\n",
       "      <td>4</td>\n",
       "      <td>160</td>\n",
       "      <td>286</td>\n",
       "      <td>0</td>\n",
       "      <td>2</td>\n",
       "      <td>108</td>\n",
       "      <td>1</td>\n",
       "      <td>1.5</td>\n",
       "      <td>2</td>\n",
       "      <td>3</td>\n",
       "      <td>3</td>\n",
       "      <td>2</td>\n",
       "    </tr>\n",
       "    <tr>\n",
       "      <th>2</th>\n",
       "      <td>67</td>\n",
       "      <td>1</td>\n",
       "      <td>4</td>\n",
       "      <td>120</td>\n",
       "      <td>229</td>\n",
       "      <td>0</td>\n",
       "      <td>2</td>\n",
       "      <td>129</td>\n",
       "      <td>1</td>\n",
       "      <td>2.6</td>\n",
       "      <td>2</td>\n",
       "      <td>2</td>\n",
       "      <td>7</td>\n",
       "      <td>1</td>\n",
       "    </tr>\n",
       "    <tr>\n",
       "      <th>6</th>\n",
       "      <td>62</td>\n",
       "      <td>0</td>\n",
       "      <td>4</td>\n",
       "      <td>140</td>\n",
       "      <td>268</td>\n",
       "      <td>0</td>\n",
       "      <td>2</td>\n",
       "      <td>160</td>\n",
       "      <td>0</td>\n",
       "      <td>3.6</td>\n",
       "      <td>3</td>\n",
       "      <td>2</td>\n",
       "      <td>3</td>\n",
       "      <td>3</td>\n",
       "    </tr>\n",
       "    <tr>\n",
       "      <th>8</th>\n",
       "      <td>63</td>\n",
       "      <td>1</td>\n",
       "      <td>4</td>\n",
       "      <td>130</td>\n",
       "      <td>254</td>\n",
       "      <td>0</td>\n",
       "      <td>2</td>\n",
       "      <td>147</td>\n",
       "      <td>0</td>\n",
       "      <td>1.4</td>\n",
       "      <td>2</td>\n",
       "      <td>1</td>\n",
       "      <td>7</td>\n",
       "      <td>2</td>\n",
       "    </tr>\n",
       "    <tr>\n",
       "      <th>9</th>\n",
       "      <td>53</td>\n",
       "      <td>1</td>\n",
       "      <td>4</td>\n",
       "      <td>140</td>\n",
       "      <td>203</td>\n",
       "      <td>1</td>\n",
       "      <td>2</td>\n",
       "      <td>155</td>\n",
       "      <td>1</td>\n",
       "      <td>3.1</td>\n",
       "      <td>3</td>\n",
       "      <td>0</td>\n",
       "      <td>7</td>\n",
       "      <td>1</td>\n",
       "    </tr>\n",
       "  </tbody>\n",
       "</table>\n",
       "</div>"
      ],
      "text/plain": [
       "   age  sex  cp  trestbps  chol  fbs  restecg  thalach  exang  oldpeak  slope  \\\n",
       "1   67    1   4       160   286    0        2      108      1      1.5      2   \n",
       "2   67    1   4       120   229    0        2      129      1      2.6      2   \n",
       "6   62    0   4       140   268    0        2      160      0      3.6      3   \n",
       "8   63    1   4       130   254    0        2      147      0      1.4      2   \n",
       "9   53    1   4       140   203    1        2      155      1      3.1      3   \n",
       "\n",
       "   ca  thal  target  \n",
       "1   3     3       2  \n",
       "2   2     7       1  \n",
       "6   2     3       3  \n",
       "8   1     7       2  \n",
       "9   0     7       1  "
      ]
     },
     "execution_count": 10,
     "metadata": {},
     "output_type": "execute_result"
    }
   ],
   "source": [
    "dataset = pd.read_csv(\"./data/heart_disease_uci.csv\", sep = \",\", header = 0)\n",
    "dataset.head()\n",
    "\n",
    "# DF of sick and healthy\n",
    "sick = dataset[dataset[\"target\"] > 0]\n",
    "healthy = dataset[dataset[\"target\"] == 0]"
   ]
  },
  {
   "cell_type": "markdown",
   "metadata": {},
   "source": [
    "# 3. Data Interpretation\n",
    "Averages for each group"
   ]
  },
  {
   "cell_type": "code",
   "execution_count": 52,
   "metadata": {},
   "outputs": [
    {
     "name": "stdout",
     "output_type": "stream",
     "text": [
      "\t\t Sick \t\t Healthy\n",
      "age     \t56.63   \t52.59   \n",
      "sex     \t0.82    \t0.56    \n",
      "cp      \t3.59    \t2.79    \n",
      "trestbps\t134.57  \t129.25  \n",
      "chol    \t251.47  \t242.64  \n",
      "fbs     \t0.16    \t0.14    \n",
      "restecg \t1.17    \t0.84    \n",
      "thalach \t139.26  \t158.38  \n",
      "exang   \t0.55    \t0.14    \n",
      "oldpeak \t1.57    \t0.59    \n",
      "slope   \t1.83    \t1.41    \n",
      "ca      \t1.06    \t0.10    \n",
      "thal    \t5.73    \t3.72    \n",
      "target  \t2.04    \t0.00    \n"
     ]
    }
   ],
   "source": [
    "max_len = max(len(column) for column in sick.columns)\n",
    "print(\"\\t\\t Sick \\t\\t Healthy\")\n",
    "for column, par_sick, par_healthy in zip(sick.columns, sick.mean(axis = 0), healthy.mean(axis = 0)):\n",
    "    print(\"\\t\".join(word.ljust(max_len) for word in [column,\"{0:.2f}\".format(par_sick),\"{0:.2f}\".format(par_healthy)]))\n",
    "    "
   ]
  },
  {
   "cell_type": "markdown",
   "metadata": {},
   "source": [
    "## Differences:\n",
    "1. Thalach - 139 compare to 158 in healthy patients\n",
    "1. ca - 1 compare to 0 \n",
    "1. thal - 5 compare to 3\n",
    "\n",
    "## Histogram & Box Plot"
   ]
  },
  {
   "cell_type": "code",
   "execution_count": 135,
   "metadata": {},
   "outputs": [
    {
     "data": {
      "image/png": "[encoded data removed]",
      "text/plain": [
       "<Figure size 864x576 with 4 Axes>"
      ]
     },
     "metadata": {
      "needs_background": "light"
     },
     "output_type": "display_data"
    }
   ],
   "source": [
    "fig = plt.figure(figsize = (12, 8))\n",
    "\n",
    "#--- Your code starts here\n",
    "\n",
    "x_axis = fig.add_subplot(2, 2, 1) ## (figure 1 in 2x1 grid)\n",
    "x_axis.hist(sick[\"thalach\"], bins = 25)\n",
    "\n",
    "plt.ylabel(\"Count\")\n",
    "plt.title(\"Boxplot and Histogram of Thalach among Sick Patients\")\n",
    "plt.yticks(range(0,25,5))\n",
    "y_axis = fig.add_subplot(2, 2,3)\n",
    "y_axis.boxplot(sick[\"thalach\"], vert=False)\n",
    "_ = plt.xlabel(\"Thalach\")\n",
    "\n",
    "x_axis = fig.add_subplot(2, 2, 2) \n",
    "x_axis.hist(healthy[\"thalach\"], bins = 25)\n",
    "\n",
    "plt.ylabel(\"Count\")\n",
    "plt.title(\"Boxplot and Histogram of Thalach among Healthy patients\")\n",
    "\n",
    "y_axis = fig.add_subplot(2, 2, 4)\n",
    "y_axis.boxplot(healthy[\"thalach\"], vert=False)\n",
    "_ = plt.xlabel(\"Thalach\")\n",
    "\n",
    "#--- Your code ends here"
   ]
  },
  {
   "cell_type": "code",
   "execution_count": 125,
   "metadata": {},
   "outputs": [
    {
     "data": {
      "text/plain": [
       "<AxesSubplot:title={'center':'Thal Values among Sick and Healthy Patients'}, xlabel='Thal Values', ylabel='Count'>"
      ]
     },
     "execution_count": 125,
     "metadata": {},
     "output_type": "execute_result"
    },
    {
     "data": {
      "image/png": "[encoded data removed]",
      "text/plain": [
       "<Figure size 432x288 with 1 Axes>"
      ]
     },
     "metadata": {
      "needs_background": "light"
     },
     "output_type": "display_data"
    }
   ],
   "source": [
    "sick_thal = [len(sick[(sick[\"thal\"] == i)]) for i in (3,6,7)]\n",
    "healthy_thal = [len(healthy[(healthy[\"thal\"] == i)]) for i in (3,6,7)]\n",
    "\n",
    "df = pd.DataFrame({\"Healthy\":healthy_thal,\"Sick\":sick_thal,}, index = [3,6,7], columns = ['Healthy','Sick'])\n",
    "df.plot(kind = \"bar\",\n",
    "        title = \"Thal Values among Sick and Healthy Patients\",\n",
    "        ylabel = \"Count\",\n",
    "        xlabel = \"Thal Values\")"
   ]
  },
  {
   "cell_type": "code",
   "execution_count": 154,
   "metadata": {},
   "outputs": [
    {
     "data": {
      "image/png": "[encoded data removed]",
      "text/plain": [
       "<Figure size 432x288 with 1 Axes>"
      ]
     },
     "metadata": {
      "needs_background": "light"
     },
     "output_type": "display_data"
    }
   ],
   "source": [
    "sick_ca = [len(sick[(sick[\"ca\"] == i)]) for i in range(4)]\n",
    "healthy_ca = [len(healthy[(healthy[\"ca\"] == i)]) for i in range(4)]\n",
    "\n",
    "df = pd.DataFrame({\"Healthy\":healthy_ca,\"Sick\":sick_ca,}, index = list(range(4)), columns = ['Healthy','Sick'])\n",
    "ax = df.plot(kind = \"bar\", \n",
    "             title = \"ca Values among Sick and Healthy Patients\",\n",
    "             ylabel = \"Count\",\n",
    "             xlabel = \"ca Values\")\n"
   ]
  },
  {
   "cell_type": "markdown",
   "metadata": {},
   "source": [
    "### Findings so far\n",
    "1. Thalach - There is a minor difference between healthy and sick patients.\n",
    "1. Thal - the value 3 which is indicates Normal is more common among healthy patients and the value 7 which means \"reversible defect\" is more common among sick patients.\n",
    "1. ca - Number of major vessels (0-3) colored by flourosopy. According to the bar plot above, healthy patients are more likley to have 0. In the other values (1,2,3) there are also a few healthy patients, but their numbers are less than the sick patients. "
   ]
  },
  {
   "cell_type": "markdown",
   "metadata": {},
   "source": [
    "## Cholesterol\n",
    "Healthy < 200 mg/dl"
   ]
  },
  {
   "cell_type": "code",
   "execution_count": 155,
   "metadata": {},
   "outputs": [
    {
     "data": {
      "image/png": "[encoded data removed]",
      "text/plain": [
       "<Figure size 864x576 with 4 Axes>"
      ]
     },
     "metadata": {
      "needs_background": "light"
     },
     "output_type": "display_data"
    }
   ],
   "source": [
    "fig = plt.figure(figsize = (12, 8))\n",
    "\n",
    "#--- Your code starts here\n",
    "\n",
    "x_axis = fig.add_subplot(2, 2, 1) ## (figure 1 in 2x1 grid)\n",
    "x_axis.hist(sick[\"chol\"], bins = 25)\n",
    "\n",
    "plt.ylabel(\"Count\")\n",
    "plt.title(\"Boxplot and Histogram of Cholestrol among Sick Patients\")\n",
    "plt.yticks(range(0,25,5))\n",
    "y_axis = fig.add_subplot(2, 2,3)\n",
    "y_axis.boxplot(sick[\"chol\"], vert=False)\n",
    "_ = plt.xlabel(\"Cholestrol mg/dL\")\n",
    "\n",
    "x_axis = fig.add_subplot(2, 2, 2) \n",
    "x_axis.hist(healthy[\"chol\"], bins = 25)\n",
    "\n",
    "plt.ylabel(\"Count\")\n",
    "plt.title(\"Boxplot and Histogram of Cholestrol among Healthy patients\")\n",
    "\n",
    "y_axis = fig.add_subplot(2, 2, 4)\n",
    "y_axis.boxplot(healthy[\"chol\"], vert=False)\n",
    "_ = plt.xlabel(\"Cholestrol mg/dL\")"
   ]
  },
  {
   "cell_type": "code",
   "execution_count": 156,
   "metadata": {},
   "outputs": [
    {
     "data": {
      "image/png": "[encoded data removed]",
      "text/plain": [
       "<Figure size 432x288 with 1 Axes>"
      ]
     },
     "metadata": {
      "needs_background": "light"
     },
     "output_type": "display_data"
    }
   ],
   "source": [
    "sick_fbs = [len(sick[(sick[\"fbs\"] == i)]) for i in range(2)]\n",
    "healthy_fbs = [len(healthy[(healthy[\"fbs\"] == i)]) for i in range(2)]\n",
    "\n",
    "df = pd.DataFrame({\"Healthy\":healthy_fbs,\"Sick\":sick_fbs,}, index = [\"< 120 mg/dL\", \"> 120 mg/dL\"], columns = ['Healthy','Sick'])\n",
    "ax = df.plot(kind = \"bar\", \n",
    "             title = \"Fasting Blood Sugar > 120mg/dL Values among Sick and Healthy Patients\",\n",
    "             ylabel = \"Count\",\n",
    "             xlabel = \"Values\",\n",
    "             rot = 0)"
   ]
  },
  {
   "cell_type": "code",
   "execution_count": 157,
   "metadata": {},
   "outputs": [
    {
     "data": {
      "image/png": "[encoded data removed]",
      "text/plain": [
       "<Figure size 432x288 with 1 Axes>"
      ]
     },
     "metadata": {
      "needs_background": "light"
     },
     "output_type": "display_data"
    }
   ],
   "source": [
    "sick_exang = [len(sick[(sick[\"exang\"] == i)]) for i in range(2)]\n",
    "healthy_exang = [len(healthy[(healthy[\"exang\"] == i)]) for i in range(2)]\n",
    "df = pd.DataFrame({\"Healthy\":healthy_exang,\"Sick\":sick_exang,}, index = [\"< 120 mg/dL\", \"> 120 mg/dL\"], columns = ['Healthy','Sick'])\n",
    "ax = df.plot(kind = \"bar\", \n",
    "             title = \"Fasting Blood Sugar > 120mg/dL Values among Sick and Healthy Patients\",\n",
    "             ylabel = \"Count\",\n",
    "             xlabel = \"Values\",\n",
    "             rot = 0)"
   ]
  },
  {
   "cell_type": "code",
   "execution_count": null,
   "metadata": {},
   "outputs": [],
   "source": []
  }
 ],
 "metadata": {
  "kernelspec": {
   "display_name": "Python 3",
   "language": "python",
   "name": "python3"
  },
  "language_info": {
   "codemirror_mode": {
    "name": "ipython",
    "version": 3
   },
   "file_extension": ".py",
   "mimetype": "text/x-python",
   "name": "python",
   "nbconvert_exporter": "python",
   "pygments_lexer": "ipython3",
   "version": "3.8.5"
  }
 },
 "nbformat": 4,
 "nbformat_minor": 4
}
