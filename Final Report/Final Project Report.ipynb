{
 "cells": [
  {
   "cell_type": "markdown",
   "metadata": {
    "id": "Oq7J6PL8pM3i"
   },
   "source": [
    "# Final Project Report - Heart Disease Prediction\n",
    "\n"
   ]
  },
  {
   "cell_type": "markdown",
   "metadata": {
    "id": "mN3v-mKPpUjB"
   },
   "source": [
    "## Team Members\n",
    "\n",
    "* **Aviv Farag** - af3228@drexel.edu\n",
    "  \n",
    "  \n",
    "* **Hope Birdsong** - hsb29@drexel.edu\n",
    "\n",
    "\n",
    "* **Joshua Geller** - jg3768@drexel.edu\n",
    "\n",
    "\n",
    "* **Willie Hood** - wh386@drexel.edu \n"
   ]
  },
  {
   "cell_type": "markdown",
   "metadata": {
    "id": "Ub7gQY9Hp9zb"
   },
   "source": [
    "## Discussion\n",
    "\n",
    "The project focuses on heart disease prediction providing an analysis and model using the Cleveland dataset developed by [UCI](https://archive.ics.uci.edu/ml/datasets/Heart+Disease). The dataset contains numeric (quantitative) and structured data of heart disease indicators in patients. The sample size contains 303 patients with 46% having remarkable heart disease indicators. The remaining 54% do not meet the indicators of heart disease and thus are considered healthy. \n",
    "\n",
    "The dataset contains 14 parameters or indicators. The \"target\" prediction depicts whether a patient is healthy, indicated by value 0, or has heart disease indicated by value 1, 2, 3, or 4 (different stages of heart disease).\n",
    "\n",
    "Our goal is to understand risk factors by analyzing the dataset using exploratory data analysis. In addition, a model was developed based on the analysis that predicts heart disease condition among patients with 84% precision. \n",
    "\n",
    "Before reviewing the dataset, we will explain the characteristics of normal QRS and ST segments to provide our diverse audience an overview of the heart's electrical conduction system. Furthermore, to provide a better understanding of the data set and how the heart contracts to pump blood throughout the body's vascular system and to its organs.\n",
    "<center><img src= \"img/QRS.jpeg\" width=\"40%\" />\n",
    "<br>\n",
    "<b><u> Fig. 1 </b></u>: Normal QRS ST-Segment in ECG. <a href = https://encrypted-tbn0.gstatic.com/images?q=tbn:ANd9GcTAQcelDKkQTMEDGQUzWyyQ-4H1oDt1JKUnEQ&usqp=CAU>Image Source </a></center>\n",
    "\n",
    "The results of an electrocardiogram (ECG) test tell us how well the heart is functioning by tracing the electrical activity within the heart. Normally, the electrical pulse moves from the sinoatrial node, represented by the P wave, across the atrium, to the atrioventricular node and through the ventricular septum of the heart represented by the QRS complex. The norm is that the Q wave is always negative (as you can see, the downslope from the isoelectric line (x axis)), and the R wave is the first positive wave of the complex (see how the slope moves up from the Q wave). The S wave is the first negative deflection after the R wave. The start of the ST segment is called the J point and is used to diagnose an ST-segment elevation.  Studying the elevation or depression of the j point from the baseline is significant in determining heart disease.\n",
    "The T wave will normally follow the direction of the QRS complex. When it occurs in the opposite direction, it reflects cardiac disease.\n",
    "\n",
    "\n",
    "### Attributes Explanation\n",
    "\n",
    "1. Age - Age of patient in years (Integer)\n",
    "1. Sex - Gender of patient (1 = male, 0 = female)\n",
    "1. cp - Chest pain type: Chest pain is referred to as angina and is associated with not having enough blood flow to the heart. Signs of angina are feeling pressure or a squeezing pain in the chest, shoulder, arms, neck, jaw, or back.\n",
    "    1. Value 1: Typical Angina - substernal chest pain precipitated by physical exertion or emotional stress and relieved with rest or nitroglycern (medication that cause venous dilation, promoting increase flow of oxygen).\n",
    "    1. Value 2: Atypical Angina - pain is actually in the chest under the breast bone.\n",
    "    1. Value 3: Non-Anginal Pain - last over 30 minutes or less than 5 seconds and increases with inspiration (inhaling). May be felt with movement and relieved when lying down.\n",
    "    1. Value 4: Asymptomatic Angina - evident electrocardiogram (ECG) changes showing ischemia with absence of angina (pain).\n",
    "1. trestbps - Resting blood pressure (in mm/Hg on admission to hospital)\n",
    "1. chol - Serum cholesterol desirable level is less than 200 mg/dl, borderline high is 200-239 mg/dl and high is equal to or above 240 mg/dl. High cholestrol leads to the development of fatty deposits in blood vessels which restricts blood flow through the arteries to the heart.\n",
    "1. fbs - Fasting blood sugar > 120 mg/dl <br> (1 = true, 0 = false). This test is used to determine if diabetes is present.\n",
    "1. restecg - Resting electrocardiographic results: \n",
    "    1. Value 0: normal \n",
    "    1. Value 1: Having ST-T wave abnormality (T wave inversions and/or ST elevation or depression of > 0.05 mV) ST-T wave abnormality shows a remarkable injury to the heart.\n",
    "    1. Value 2: Showing probable or definite left ventricular hypertrophy by Estes' criteria. Estes is a scoring ECG criteria that measures the voltage of the leads placed on the limbs during the ECG test. The criteria also compares the ST-T segment to the entire QRS segment and P wave (atrial).\n",
    "1. thalach - Maximum heart rate achieved during exercise. This is determined by calculating 220 - age = estimated maximum heart rate.\n",
    "1. exang - Exercise Induced Angina (1 - yes, 0 = no)\n",
    "1. oldpeak - ST depression induced by exercise relative to rest.\n",
    "\n",
    "\n",
    "\n",
    "<center><img  src=\"img/ST depression.png\" width = \"60%\" />\n",
    "\n",
    "<br>\n",
    "<b><u>Fig. 2</u></b>: Normal and ST Depression in ECG. <a href = https://www.cvphysiology.com/CAD/CAD012>Image Source </a></center>\n",
    "\n",
    "When interpreting an ECG strip, each small square is 1mm in length and represents 0.04 seconds. Each larger square is 5mm in length and represents 0.20 seconds. These measurements are used in interpreting an ECG strip obtained from the ECG test. Each wave has parameters in seconds that determine if the rhythm strip segments meet normal values.\n",
    "\n",
    "Our model will determine whether the sample size has heart disease based on the above attributes in our data set. \n",
    "\n",
    "Again, the data set looks at the QRS complex, ST segment depression and identifies three indications determining the risk of heart disease.\n",
    "\n",
    "11. slope - The slope of the peak exercise ST segment:\n",
    "    1. Value 1: Upsloping ST-segment depression is normal finding during physical exercise, unless the T-waves are inverted or at rest being a sign of heart disease and evidence of an acute myocardial infarction (stroke).\n",
    "    1. Value 2: Flat ST-segment is isoelectric and normal.\n",
    "    1. Value 3: Downsloping ST-segment is typical of ischemia. Deviations in ST-segment always indicates ongoing ischemia and may be accompanied by T-wave changes.\n",
    "\n",
    "The illustration below also shows a horizontal ST-segment depression which also depicts ischemia. However, this type of ST-segment depression is not included in our data set.\n",
    "  \n",
    "\n",
    "<center><img src=img/ST-segment-depression-upsloping-downsloping-horizontal.png width = \"60%\" />\n",
    "<br><b><u> Fig. 3</u></b>: Upslopinging, Downsloping and Flat/Horizontal ST Depression. <a href = https://litfl.com/wp-content/uploads/2018/10/ST-segment-depression-upsloping-downsloping-horizontal.png>Image Source </a></center>\n",
    "\n",
    "ST Depression (oldpeak attribute) is used in the prediction to compare ST-segment depression at rest and during exercise. This measure is an excellent analysis of the risk of heart disease.\n",
    "\n",
    "12. ca - Number of major vessels (0-3) colored by Flouroscopy.\n",
    "<br>\n",
    "Flourscopy is an imaging technique in which a dye is injected to the vessels in the patient's heart in order to identify blockages using x-ray as shown in the figure below:\n",
    "<br>\n",
    "<center><img  src=img/Blockage.png width = \"30%\" height =\"30%\" />\n",
    "<br>\n",
    "<b><u>Fig. 4</u></b>: Flouroscopy. <a href = \"https://www.youtube.com/watch?v=GhNT2G1fkJg\">Image Source</a></center>\n",
    "\n",
    "\n",
    "\n",
    "13. thal - thallium stress test is done to visualize blood flow obstruction for those unable to tolerate exercise induced stress test. Thal has three values: \n",
    "\n",
    "    1. Value 3: Normal (normal blood flow).\n",
    "    1. Value 6: Fixed Defect (no blood flow in some part of the heart).\n",
    "    1. Value 7: Reverseable Defect (blood flow is observed but it is not normal and may be reversed by removing blockage).\n",
    "\n",
    "14. target - Diagnosis of Heart Disease (Angiographic Disease Status)\n",
    "    1. Value 0: Healthy.\n",
    "    1. Value 1, 2, 3, 4: Heart disease stages.\n",
    "\n",
    "\n"
   ]
  },
  {
   "cell_type": "markdown",
   "metadata": {
    "id": "Bquvvfd0qJod"
   },
   "source": [
    "## Exploratory Data Analysis \n"
   ]
  },
  {
   "cell_type": "markdown",
   "metadata": {
    "id": "nwiFK_tx3WTz"
   },
   "source": [
    "### Spearman Correlation\n",
    "\n",
    "The following spearman rank-order correlation table shows whether an association exists between two variables. The correlation coefficient is between +1 and -1. A positive relationship (+1) depicts while one variable increases, the other variable also increases. A negative relationship (-1) depicts while one variable increases, the other tends to decrease. There is a positive correlation between restecg and slope (ST segment) which is a significant indicator of heart disease. There is also a positive correlation between exercised induced angina and slope (ST segment) which may not be a significant indicator of heart disease in healthy patients. In addition to a positive correlation between thal (thalessemia) and target. Correlation was computed using `dataset.corr(method = \"spearman\")`.\n",
    "\n",
    "\n",
    "<center><img src=img/spearman_corr.png width = \"100%\" />\n",
    "\n",
    "\n",
    "<br>\n",
    "<b><u>Fig. 5</u></b>: Spearman Correlation </center>\n"
   ]
  },
  {
   "cell_type": "markdown",
   "metadata": {
    "id": "d7BEP8o-4K-N"
   },
   "source": [
    "In our analysis we focused on columns that have a higher absolute correlation value, especially columns that have a higher absolute value with the target column. A negative value is also a good option because it indicates that the decreasing of one variable, increases the other variable. Therefore we used absolute value.  "
   ]
  },
  {
   "cell_type": "markdown",
   "metadata": {
    "id": "58a-z65q3sRB"
   },
   "source": [
    "### Resting Electrocardiographic Results\n",
    "\n",
    "\n",
    "<center><img  src=img/restecg.png width = \"60%\"/>\n",
    "\n",
    "\n",
    "<br>\n",
    "<b><u>Fig. 6</u></b>: Resting ECG Results </center>\n",
    "</br>"
   ]
  },
  {
   "cell_type": "markdown",
   "metadata": {
    "id": "jVVxxpSM4QRy"
   },
   "source": [
    "The above bar chart depicts that healthy patients resting electrocardiogram (ECG) results are normal with less than 5 patients or outliers with an abnormal ST segment and over 60 patients with left ventricular hypertrophy. Left ventricular hypertrophy (enlargement and thickening of the heart) in healthy people may be silent until presented on an ECG. Therefore, remarkable left ventricular hypertrophy is a significant indicator for the health care provider to rule out secondary diagnosis of congenital heart diease, valve disease, hypertension and hypertrophic cardiomyopathy in healthy patients.\n",
    "\n",
    "Further, heart disease patients have a normal ECG due to their condition not causing a disturbance in the hearts electrical activity. The data shows less than 10 patients with an abnormal ST segment and over 80 patients with left ventricular hypertrophy mainly due to hypertension and secondary to high cholesterol and all other risk factors."
   ]
  },
  {
   "cell_type": "markdown",
   "metadata": {
    "id": "4-LbUmr_2gmf"
   },
   "source": [
    "### Thal Values \n",
    "\n",
    "<center><img src = img/thal.png width = \"60%\" />\n",
    "\n",
    "<br>\n",
    "<b><u>Fig. 7</u></b>: Thal Distribution </center>\n",
    "</br>"
   ]
  },
  {
   "cell_type": "markdown",
   "metadata": {
    "id": "2RuyCUdG4SXr"
   },
   "source": [
    "The above graph compares Thallium stress test results among healthy and heart disease patients. During this procedure a dye is injected into one of the veins. This liquid will end up in the heart and glow to show the blood flow.  This procedure is less invasive than flouroscopy.  \n",
    "\n",
    "The data shows that over 120 healthy patients have normal thal values and some outliers have a fixed defect possibly due to genetic inheritance with over 20 healthy patients having a reversible defect.\n",
    "\n",
    "Further, the heart disease population had less than 40 patients with normal thal values. Less than 20 patients had a fixed defect thal values and an increase of over 90 patients with a reversible defect.\n"
   ]
  },
  {
   "cell_type": "markdown",
   "metadata": {
    "id": "v5v0eH4H2dDz"
   },
   "source": [
    "### Number of Major Vessels\n",
    "\n",
    "\n",
    "<center>\n",
    "<img src = img/ca.png width = \"60%\">\n",
    "\n",
    "<br>\n",
    "<b><u>Fig. 8</u></b>: Major Vessels Fluoroscopy  </center>\n",
    "</br>"
   ]
  },
  {
   "cell_type": "markdown",
   "metadata": {
    "id": "n8_4oTCp2fiI"
   },
   "source": [
    "Flouroscopy is an imaging procedure that allows Doctors to examine blood flow in the heart of the patients. The ca feature (stands for Coronary Angiogram) is a discrete number ranging from 0 to 3 which indicates the number of major vessels in the patient's heart that were abnormal due to possible atherosclerosis. The bar plot (Fig. 4) shows that most healthy patients have a ca of 0, whereas heart disease patients have at least 1. \n"
   ]
  },
  {
   "cell_type": "markdown",
   "metadata": {
    "id": "qmxnkzzioxDH"
   },
   "source": [
    "### Thalach and Exercise Induced Angina\n",
    "\n",
    "\n",
    "<center>\n",
    "<img src = img/exang_thalach.png width = \"100%\">\n",
    "\n",
    "\n",
    "\n",
    "<br>\n",
    "<b><u>Fig. 9</u></b>: Thalach and Excercise Induced Angina among healthy and heart disease patients </center>\n",
    "</br>\n"
   ]
  },
  {
   "cell_type": "markdown",
   "metadata": {
    "id": "mmyzNMV3peXl"
   },
   "source": [
    "\n",
    "The figure above shows the normalized histogram of Healthy (Green) and Heart Disease (Red) patients with exercise induced angina as well as each group's median and mean values. Comparing both groups histogram we can see a big difference between the groups. 65% of healthy group have a maximum heart rate higher than 140 whereas in the other group this number drops to 24%. It shows that maximum heart rate drops significantly as can be seen by the average and median values of each group. \n",
    "\n",
    "Exercise induced angina is pain in the chest that comes on with exercise. This test determines how well the coronary arteries supply blood to the heart and if heart rhythm remains normal as identified by the maximum heart rate achieved."
   ]
  },
  {
   "cell_type": "markdown",
   "metadata": {
    "id": "TLfpgcQycaLE"
   },
   "source": [
    "## Machine Learning Prediction\n",
    "\n",
    "Import required packages for machine learning:\n",
    "```\n",
    "from sklearn.metrics import f1_score, precision_score, recall_score\n",
    "from sklearn.linear_model import LogisticRegression\n",
    "from sklearn.model_selection import train_test_split\n",
    "from sklearn.pipeline import Pipeline\n",
    "```\n",
    "\n",
    "### Baseline\n",
    "\n",
    "Our basline prediction is males older than 49 years old:\n",
    "```\n",
    "# Baseline --- predict all age >= 50, sex = 1 (males)\n",
    "cdataset = dataset.copy()\n",
    "clean_data(cdataset)\n",
    "y = cdataset[\"target\"]\n",
    "baseline = ((cdataset[\"age\"] >= 50) & (cdataset[\"sex\"] == 1)).astype(int)\n",
    "\n",
    "print(\"Precision: {0:.3f}\".format(precision_score(baseline, y)))\n",
    "print(\"Recall: {0:.3f}\".format(recall_score(baseline,y)))\n",
    "print(\"F1: {0:.3f}\".format(f1_score(baseline, y)))\n",
    "```\n",
    "After cleaning data and making our basline prediction, the results are:\n",
    "```\n",
    "Precision: 0.642\n",
    "Recall: 0.629\n",
    "F1: 0.635\n",
    "```"
   ]
  },
  {
   "cell_type": "markdown",
   "metadata": {
    "id": "DIPM93QEqyut"
   },
   "source": [
    "\n",
    "\n",
    "### Model #1 - Logistic Regression\n",
    "\n",
    "\n",
    "<center>\n",
    "<img src = img/sp1.png width = \"70%\">\n",
    "<br>\n",
    "<b><u>Fig. 10</u></b>: Heat Map for spearman correlation </center>\n",
    "\n",
    "As mentioned in the discussion there are 13 features (not including \"target\"). We reduced that number of features using the spearman correlation of each attribute with the target attribute which is presented in the heat map above. We chose attributes with an absolute value higher than 0.4:\n",
    "\n",
    "\n",
    "<table style=\"font-size=large\">\n",
    "  <tr>\n",
    "    <th>Attribute</th>\n",
    "    <th>Correlation</th>\n",
    "  </tr>\n",
    "  <tr>\n",
    "    <td>Thalach</td>\n",
    "    <td>-0.443944</td>\n",
    "  </tr>\n",
    "  <tr>\n",
    "    <td>Exang</td>\n",
    "    <td>0.435255</td>\n",
    "  </tr>\n",
    "  <tr>\n",
    "    <td>Oldpeak</td>\n",
    "    <td>0.463032</td>\n",
    "  </tr>\n",
    "  <tr>\n",
    "    <td>Slope</td>\n",
    "    <td>0.400302</td>\n",
    "  </tr>\n",
    "  <tr>\n",
    "    <td>ca</td>\n",
    "    <td>0.528029</td>\n",
    "  </tr>\n",
    "  <tr>\n",
    "    <td>cp</td>\n",
    "    <td>0.486933</td>\n",
    "  </tr>\n",
    "  <tr>\n",
    "    <td>thal</td>\n",
    "    <td>0.528</td>\n",
    "  </tr>\n",
    "</table>\n",
    "<br>\n",
    "<center><b><u>Table 1</u></b> Chosen Attributes</center>\n",
    "\n",
    "### Clean Data\n",
    "We removed any missing values in the dataset in the chosen attributes and replaced 1,2,3,4 values in the target attribute with 1, so the predictions will be either 0 (healthy) or 1 (heart disease):\n",
    "\n",
    "```\n",
    "def clean_data(data):\n",
    "\n",
    "    # Replace -9 with NaN\n",
    "    data.replace(-9,np.nan,inplace = True)\n",
    "\n",
    "    # Drop NaNs \n",
    "    data.dropna(inplace = True)\n",
    "\n",
    "    # Change ca and thal from float to int\n",
    "    data[\"ca\"] = data[\"ca\"].astype(int)\n",
    "    data[\"thal\"] = data[\"thal\"].astype(int)\n",
    "\n",
    "    # Replace 1,2,3,4 with 1 in target column\n",
    "    data[\"target\"].replace([1,2,3,4],1, inplace = True)\n",
    "```\n",
    "\n",
    "\n",
    "### Discretize attributes\n",
    "There are 2 continuous attributes out of the 7 that we selected (Thalach which is maximum heart rate and Oldpeak which is ST depression measurment). In order to use them in our model we discretize them:\n",
    "\n",
    "#### Thalach\n",
    "We used the formula [[1]](#mhr): 220-age to calculate a target value for maximum heart rate for each patient. So, we created a method to insert a new column with 0,1 values that indicates wether the patients reached a certain percent of the target heart rate.\n",
    "\n",
    "\n",
    "```\n",
    "def max_HR_percent(data, percent = 0.85):\n",
    "\n",
    "    # Ensure percent is less than 1 (0.85 ---> 85%)\n",
    "    if percent > 1:\n",
    "        percent = percent / 100\n",
    "    \n",
    "    # Create new column Maximum Heart Rate Percent\n",
    "    # 0 - greater than percent value, 1 less than \n",
    "    hr_percent =  [0 if patient[\"thalach\"] / (220 - patient[\"age\"]) >= percent \n",
    "                   else 1\n",
    "                   for index,patient  in data.iterrows()]\n",
    "\n",
    "    # Insert new column to dataset\n",
    "    data[\"MHRPercent\"] = hr_percent\n",
    "```\n",
    "\n",
    "\n",
    "\n",
    "#### Oldpeak\n",
    "\n",
    "Oldpeak is a measurement of the trace in the ST segment. The units are mm and it indicates the distance below the baseline in the ECG. In our analysis we used 1mm as the threshold (which corresponds to 0.1mV). So, below 1mm is 0 and above 1mm is 1 to indicate abnormality in this measurement: \n",
    "```\n",
    "def discretize(data, column, threshold):\n",
    "\n",
    "    # Set all values that are greater than or \n",
    "    # equal to the threshold to 1\n",
    "    mask = data[column] >= threshold\n",
    "    data.loc[mask,column] = 1\n",
    "\n",
    "    # Set all values that are smaller than  \n",
    "    # the threshold to 0\n",
    "    mask = data[column] < threshold\n",
    "    data.loc[mask,column] = 0\n",
    "\n",
    "    # Change type from float to int\n",
    "    data[column] =  data[column].astype(int)\n",
    "```\n",
    "\n",
    "### Final Code\n",
    "\n",
    "\n",
    "\n",
    "```\n",
    "# Copy dataset\n",
    "cdataset = dataset.copy()\n",
    "\n",
    "# Create Pipline with logistic regression classifier\n",
    "logistic_classifier = Pipeline([('clean', clean_data(cdataset)),\n",
    "                                ('disc', discretize(cdataset,\"oldpeak\",1)),\n",
    "                                ('mhrp',max_HR_percent(cdataset, 85)),\n",
    "                                ('clf', LogisticRegression(solver='lbfgs'))])\n",
    "\n",
    "# Target Value\n",
    "y = cdataset[\"target\"].copy()\n",
    "\n",
    "# Chosen attributes for the machine learning\n",
    "x = cdataset[[\"cp\",'exang', 'oldpeak','slope', 'ca','thal',\"MHRPercent\"]]\n",
    "\n",
    "# Split data to training and test sets\n",
    "x_train, x_test, y_train, y_test = train_test_split(x, y, test_size = 0.25, random_state=42)\n",
    "\n",
    "# Fit logistic classifier to our training data\n",
    "logistic_classifier.fit(x_train, y_train)\n",
    "\n",
    "# Make predictions on test data based on the fit\n",
    "predictions = logistic_classifier.predict(x_test)\n",
    "\n",
    "# Print Results\n",
    "print(\"Results\")\n",
    "print(\"Precision: {0:.3f}\".format(precision_score(predictions, y_test)))\n",
    "print(\"Recall: {0:.3f}\".format(recall_score(predictions,y_test)))\n",
    "print(\"F1: {0:.3f}\".format(f1_score(predictions, y_test)))\n",
    "```\n",
    "\n",
    "We made a copy of the dataset and then initialized logisitic regression classifier using Pipeline. This Pipeline follows a few steps. First it cleans the data (remove NaNs and replace 1,2,3,4 with 1 in target column), then it discretizes oldpeak attributes with threshold set to 1mm. Afterwords, it add a new column MHRPercent to indicate wether the patient reached his target maximum heart rate. In the last step, it initialize the classifier to logisitic regression. \n",
    "\n",
    "Then, we store the target and the chosen attributes in two different variables (y and x) and split them to training and test data. It makes a fit based on the training data and predictions on the test data and the results are:\n",
    " \n",
    "\n",
    "```\n",
    "Results\n",
    "Precision: 0.848\n",
    "Recall: 0.933\n",
    "F1: 0.889\n",
    "```\n",
    "\n",
    "<center>\n",
    "<img src = img/lr1.png width = \"70%\"/>\n",
    "\n",
    "<br>\n",
    "<b><u>Fig. 11</u></b>: Confusion Matrix for test results </center>\n",
    "\n"
   ]
  },
  {
   "cell_type": "markdown",
   "metadata": {
    "id": "BQk4GiZzX1zm"
   },
   "source": [
    "### Model #2 - Random Forest\n",
    "\n",
    "Linear regression was ran using spearmans correlation for the feature selection. To check the signifiance the correlation method has on the features of the heart disease data set Method 2 will be utilizing the Pearson corelation.\n",
    "\n",
    "\n",
    "<center>\n",
    "<img src = img/hm_1.png width = \"60%\"/>\n",
    "\n",
    "<br>\n",
    "<b><u>Fig. 12</u></b>: A Heat Map showing the normalized results from the pearsons corelation. This Heatmap uses the raw data. </center>\n",
    "\n",
    "### Code for Pearson Correlation\n",
    "```\n",
    "## Heatmap\n",
    "# For spearman make method = 'spearman'\n",
    "def heatmap_cor(dataset,plot_title, method = 'pearson'):\n",
    "    cor = dataset.corr(method = method)\n",
    "    plt.figure(figsize = (12,8))\n",
    "    plt.title(plot_title)\n",
    "    sns.heatmap(cor, annot = True, cmap = 'rocket')\n",
    "```\n",
    "\n",
    "\n",
    "Using the same thresholds from the Spearman Corelation our results are as follows:\n",
    "<table style=\"font-size=large\">\n",
    "  <tr>\n",
    "    <th>Attribute</th>\n",
    "    <th>Correlation</th>\n",
    "  </tr>\n",
    "  <tr>\n",
    "    <td>Oldpeak</td>\n",
    "    <td>0.50</td>\n",
    "  </tr>\n",
    "  <tr>\n",
    "    <td>thal</td>\n",
    "    <td>0.44</td>\n",
    "  </tr>\n",
    "  <tr>\n",
    "    <td>cp</td>\n",
    "    <td>0.41</td>\n",
    "  </tr>\n",
    "  <tr>\n",
    "    <td>exang</td>\n",
    "    <td>0.40</td>\n",
    "  </tr>\n",
    "  <tr>\n",
    "    <td>thalach</td>\n",
    "    <td>-0.42</td>\n",
    "  </tr>\n",
    "</table>\n",
    "<br>\n",
    "<center><b><u>Table 2</u></b>: Chosen attributes </center>\n",
    "\n",
    "The Pearson Correlation resulted in less usable features that the Spearman correlation did, however the features that were chosen by the pearson correlation also showed up as usabkle features in the spearman correlation.\n",
    "\n",
    "Since the features resulting from the pearsons correlation were also used by the Spearmans correlation Random Forrests was used in order to assess the difference in accuracy for linear regression.\n",
    "\n",
    "\n",
    "#### Code for Random Forrest\n",
    "```\n",
    "## Random Forest\n",
    "def run_random_forest(dataframe, x_train,x_test,y_train,y_test, estimator = 10):\n",
    "    model = RandomForestClassifier(n_estimators=estimator); \n",
    "    model.fit(x_train,y_train)\n",
    "    return model,x_test,y_test\n",
    "```\n",
    "\n",
    "\n",
    "#### Code for Confusion Matrix\n",
    "```\n",
    "## Confusion Matrix\n",
    "def plot_confusion_matrix(y_test,x_pred,plot_title):\n",
    "    con_matrix = confusion_matrix(y_test,x_pred)\n",
    "    plt.figure(figsize = (12,8))\n",
    "    sns.heatmap(con_matrix, annot = True, cmap = 'rocket')\n",
    "    plt.xlabel('Predicted')\n",
    "    plt.ylabel('Actual')\n",
    "    plt.title(plot_title)\n",
    "```\n",
    "Utilizing an estimator of 50 the score for the random forrest was 0.80263\n",
    "\n",
    "<center>\n",
    "<img src = img/cm1.png width=\"70%\"/>\n",
    "\n",
    "<br>\n",
    "<b><u>Fig. 13</u></b>: Coinfusion Matrix for the PEarson Correlation </center>\n",
    "\n",
    "33 predictions for no heart disease matched the actual and 30 predictions for no heart disease matched the actual data.\n",
    "\n",
    "```\n",
    "Results\n",
    "Precision: 0.757\n",
    "Recall: 0.824\n",
    "F1: 0.789\n",
    "```\n",
    "Based off the Precision, Recall and F1 results linear regression proved to be the better algorthm to access the data.\n"
   ]
  },
  {
   "cell_type": "markdown",
   "metadata": {
    "id": "tc-kM8pYq25A"
   },
   "source": [
    "## Conclusions \n",
    "\n",
    "- We were able to utilize a spearman correlation of each attribute with the target attribute to determine which values to focus on.\n",
    "- We were able to determine what features were not useful based on the symptom comparison between healthy and heart disease patients. \n",
    "- We were able to use machine learning to show the precision of the training data and make predictions on the test data.\n",
    "- We tried 2 different methods for machine learning. The first one uses spearman correlation and Logistic Regression. The second method uses pearson correlation and Random Forest. Comparing results of both method the first method has better performance.  \n"
   ]
  },
  {
   "cell_type": "markdown",
   "metadata": {
    "id": "7sW3zwLGrKfM"
   },
   "source": [
    "## Audience "
   ]
  },
  {
   "cell_type": "markdown",
   "metadata": {
    "id": "CwBJL9lkky6T"
   },
   "source": [
    "Health care providers, medical providers, people over the age of 55 and those already with severe health conditions would be interested in this analysis. Health care and medical providers could utilize this analysis to make better decisions when working with a patients symptoms and can determine a diagnosis faster. People over the age of 55 and people that already have severe health conditions could use this analysis when making lifestyle decisions and would know when to go see a doctor. "
   ]
  },
  {
   "cell_type": "markdown",
   "metadata": {
    "id": "T_Gj_z7LrMtD"
   },
   "source": [
    "## Future Considerations \n",
    "\n",
    "### Model #1 \n",
    "Our machine learning model predicted with more than 80% accuracy using 6 features out of 13. Among the features we didn't use are Cholesterol and Fasting Blood Sugar which are both linked with heart disease [[4]](#chd). We didn't use them because in this dataset there was not much difference between the distribution of those features among heart disease and healthy patients. \n",
    "\n",
    "<center>\n",
    "<img src =img/Cholesterol.png width = \"100%\"/>\n",
    "\n",
    "\n",
    "<br>\n",
    "<b><u>Fig. 14</u></b>: Cholesterol Among Healthy and Heart Disease Patients </center>\n",
    "</br>\n",
    "\n",
    "The figure above shows a normalized histogram of Cholesterol among Healthy (Green) and Heart Disease (Red) patients. This histogram was plotted after deleteting outliers and the results show a slight difference. \n",
    "\n",
    "Our analysis is limited by our dataset. Recall that our dataset includes 303 patients from Cleveland. Increasing the amount of patients in the dataset as well as collecting data from other areas might change the picture completely. Therefore, in future version cholesterol might be discretize and taken into account in order to make a better prediction. \n",
    "\n",
    "The same picture is drawn with Fasting Blood Sugar: \n",
    "<center>\n",
    "<img src = img/fbs.png width=\"60%\"/>\n",
    "\n",
    "\n",
    "<br>\n",
    "<b><u>Fig. 15</u></b>: Fasting Blood Sugar Among Healthy and Heart Disease Patients </center>\n",
    "</br>\n",
    "\n",
    "Once again, the more data we have it might change the whole picture, so in future version this feature should also be analyzed and might be taken into account in the machine learning model.  \n"
   ]
  },
  {
   "cell_type": "markdown",
   "metadata": {
    "id": "-DfPslh9bFAK"
   },
   "source": [
    "<a name = \"ref\"></a>\n",
    "## References:\n",
    "\n",
    "1. <a name = \"mhr\"></a>Martha Gulati, Leslee J. Shaw, et.al. (Jun 2010). Heart rate Response to exercise stress testing in asymptomatic women:the St. james women take heart project https://doi.org/10.1161/CirculationAHA.110.939249 \n",
    "\n",
    "1. Watanabe, T., Harumi, K., Akutsu, et.al. (1997). Significance of downsloping ST-segment depression induced by low-level exercise in severe coronary artery disease. \n",
    "   Assessment with myocardial ischemia and collateral perfusion. Japanese heart journal, 38(2), 207–218. https://doi.org/10.1536/ihj.38.207\n",
    "\n",
    "1. <a name = \"st-depression\"></a>Borys Surawicz, Timothy K. Knilans. Chou's Electrocardiography in Clinical Practice (Sixth Edition), W.B. Saunders, 2008, Page iv, ISBN 9781416037743,\n",
    "https://doi.org/10.1016/B978-141603774-3.50001-X.\n",
    "\n",
    "1. <a name = \"chd\"></a>Chou R, Arora B, Dana T, et al. Screening Asymptomatic Adults for Coronary Heart Disease With Resting or Exercise Electrocardiography: Systematic Review to Update the 2004 U.S. Preventive Services Task Force Recommendation [Internet]. Rockville (MD): Agency for Healthcare Research and Quality (US); 2011 Sep. (Evidence Syntheses, No. 88.) 1, Introduction. Available from: https://www.ncbi.nlm.nih.gov/books/NBK63673/ \n",
    "\n",
    "5. Constant J. (1990). The diagnosis of nonanginal chest pain. The Keio journal of medicine, 39(3), 187–192. https://doi.org/10.2302/kjm.39.187 \n",
    "\n",
    "6. Desai, M. Y., Crugnale, S., Mondeau, J., Helin, K., & Mannting, F. (2002). Slow upsloping ST-segment depression during exercise: does it really signify a positive stress test?. American heart journal, 143(3), 482–487. https://doi.org/10.1067/mhj.2002.120771\n"
   ]
  }
 ],
 "metadata": {
  "colab": {
   "collapsed_sections": [],
   "name": "DSCI 521 - Final Project Report.ipynb",
   "provenance": [],
   "toc_visible": true
  },
  "kernelspec": {
   "display_name": "Python 3",
   "language": "python",
   "name": "python3"
  },
  "language_info": {
   "codemirror_mode": {
    "name": "ipython",
    "version": 3
   },
   "file_extension": ".py",
   "mimetype": "text/x-python",
   "name": "python",
   "nbconvert_exporter": "python",
   "pygments_lexer": "ipython3",
   "version": "3.8.5"
  }
 },
 "nbformat": 4,
 "nbformat_minor": 1
}
