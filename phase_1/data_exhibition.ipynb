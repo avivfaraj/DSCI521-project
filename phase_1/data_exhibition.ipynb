{
 "cells": [
  {
   "cell_type": "code",
   "execution_count": 1,
   "metadata": {},
   "outputs": [
    {
     "data": {
      "text/html": [
       "<!-- Center align for images -->\n",
       "<style>\n",
       ".output {\n",
       "    text-align: center;\n",
       "    vertical-align: middle;\n",
       "}\n",
       "</style>\n",
       "\n"
      ],
      "text/plain": [
       "<IPython.core.display.HTML object>"
      ]
     },
     "metadata": {},
     "output_type": "display_data"
    }
   ],
   "source": [
    "%%html\n",
    "<!-- Center align for images -->\n",
    "<style>\n",
    ".output {\n",
    "    text-align: center;\n",
    "    vertical-align: middle;\n",
    "}\n",
    "</style>\n",
    "\n"
   ]
  },
  {
   "cell_type": "markdown",
   "metadata": {},
   "source": [
    "# Import Packages"
   ]
  },
  {
   "cell_type": "code",
   "execution_count": 2,
   "metadata": {},
   "outputs": [],
   "source": [
    "%matplotlib inline"
   ]
  },
  {
   "cell_type": "code",
   "execution_count": 3,
   "metadata": {},
   "outputs": [],
   "source": [
    "import os\n",
    "import pandas as pd\n",
    "import matplotlib.pyplot as plt\n",
    "from collections import Counter"
   ]
  },
  {
   "cell_type": "markdown",
   "metadata": {},
   "source": [
    "# Read Data"
   ]
  },
  {
   "cell_type": "code",
   "execution_count": 4,
   "metadata": {},
   "outputs": [
    {
     "data": {
      "text/html": [
       "<div>\n",
       "<style scoped>\n",
       "    .dataframe tbody tr th:only-of-type {\n",
       "        vertical-align: middle;\n",
       "    }\n",
       "\n",
       "    .dataframe tbody tr th {\n",
       "        vertical-align: top;\n",
       "    }\n",
       "\n",
       "    .dataframe thead th {\n",
       "        text-align: right;\n",
       "    }\n",
       "</style>\n",
       "<table border=\"1\" class=\"dataframe\">\n",
       "  <thead>\n",
       "    <tr style=\"text-align: right;\">\n",
       "      <th></th>\n",
       "      <th>age</th>\n",
       "      <th>sex</th>\n",
       "      <th>cp</th>\n",
       "      <th>trestbps</th>\n",
       "      <th>chol</th>\n",
       "      <th>fbs</th>\n",
       "      <th>restecg</th>\n",
       "      <th>thalach</th>\n",
       "      <th>exang</th>\n",
       "      <th>oldpeak</th>\n",
       "      <th>slope</th>\n",
       "      <th>ca</th>\n",
       "      <th>thal</th>\n",
       "      <th>target</th>\n",
       "    </tr>\n",
       "  </thead>\n",
       "  <tbody>\n",
       "    <tr>\n",
       "      <th>0</th>\n",
       "      <td>63</td>\n",
       "      <td>1</td>\n",
       "      <td>1</td>\n",
       "      <td>145</td>\n",
       "      <td>233</td>\n",
       "      <td>1</td>\n",
       "      <td>2</td>\n",
       "      <td>150</td>\n",
       "      <td>0</td>\n",
       "      <td>2.3</td>\n",
       "      <td>3</td>\n",
       "      <td>0</td>\n",
       "      <td>6</td>\n",
       "      <td>0</td>\n",
       "    </tr>\n",
       "    <tr>\n",
       "      <th>1</th>\n",
       "      <td>67</td>\n",
       "      <td>1</td>\n",
       "      <td>4</td>\n",
       "      <td>160</td>\n",
       "      <td>286</td>\n",
       "      <td>0</td>\n",
       "      <td>2</td>\n",
       "      <td>108</td>\n",
       "      <td>1</td>\n",
       "      <td>1.5</td>\n",
       "      <td>2</td>\n",
       "      <td>3</td>\n",
       "      <td>3</td>\n",
       "      <td>2</td>\n",
       "    </tr>\n",
       "    <tr>\n",
       "      <th>2</th>\n",
       "      <td>67</td>\n",
       "      <td>1</td>\n",
       "      <td>4</td>\n",
       "      <td>120</td>\n",
       "      <td>229</td>\n",
       "      <td>0</td>\n",
       "      <td>2</td>\n",
       "      <td>129</td>\n",
       "      <td>1</td>\n",
       "      <td>2.6</td>\n",
       "      <td>2</td>\n",
       "      <td>2</td>\n",
       "      <td>7</td>\n",
       "      <td>1</td>\n",
       "    </tr>\n",
       "    <tr>\n",
       "      <th>3</th>\n",
       "      <td>37</td>\n",
       "      <td>1</td>\n",
       "      <td>3</td>\n",
       "      <td>130</td>\n",
       "      <td>250</td>\n",
       "      <td>0</td>\n",
       "      <td>0</td>\n",
       "      <td>187</td>\n",
       "      <td>0</td>\n",
       "      <td>3.5</td>\n",
       "      <td>3</td>\n",
       "      <td>0</td>\n",
       "      <td>3</td>\n",
       "      <td>0</td>\n",
       "    </tr>\n",
       "    <tr>\n",
       "      <th>4</th>\n",
       "      <td>41</td>\n",
       "      <td>0</td>\n",
       "      <td>2</td>\n",
       "      <td>130</td>\n",
       "      <td>204</td>\n",
       "      <td>0</td>\n",
       "      <td>2</td>\n",
       "      <td>172</td>\n",
       "      <td>0</td>\n",
       "      <td>1.4</td>\n",
       "      <td>1</td>\n",
       "      <td>0</td>\n",
       "      <td>3</td>\n",
       "      <td>0</td>\n",
       "    </tr>\n",
       "  </tbody>\n",
       "</table>\n",
       "</div>"
      ],
      "text/plain": [
       "   age  sex  cp  trestbps  chol  fbs  restecg  thalach  exang  oldpeak  slope  \\\n",
       "0   63    1   1       145   233    1        2      150      0      2.3      3   \n",
       "1   67    1   4       160   286    0        2      108      1      1.5      2   \n",
       "2   67    1   4       120   229    0        2      129      1      2.6      2   \n",
       "3   37    1   3       130   250    0        0      187      0      3.5      3   \n",
       "4   41    0   2       130   204    0        2      172      0      1.4      1   \n",
       "\n",
       "   ca  thal  target  \n",
       "0   0     6       0  \n",
       "1   3     3       2  \n",
       "2   2     7       1  \n",
       "3   0     3       0  \n",
       "4   0     3       0  "
      ]
     },
     "execution_count": 4,
     "metadata": {},
     "output_type": "execute_result"
    }
   ],
   "source": [
    "# Get DSCI521-project/data directory\n",
    "current_dir = os.getcwd()\n",
    "parent = os.path.dirname(current_dir)\n",
    "\n",
    "# Read csv file \n",
    "dataset = pd.read_csv(parent+\"/data/heart_disease_uci.csv\", sep = \",\", header = 0)\n",
    "\n",
    "# Ensure dataset was loaded\n",
    "dataset.head()\n"
   ]
  },
  {
   "cell_type": "markdown",
   "metadata": {},
   "source": [
    "# Missing Values"
   ]
  },
  {
   "cell_type": "code",
   "execution_count": 27,
   "metadata": {},
   "outputs": [
    {
     "name": "stdout",
     "output_type": "stream",
     "text": [
      "Columns with missing values:  ['ca', 'thal']\n"
     ]
    }
   ],
   "source": [
    "missing_ls = []\n",
    "# Iterate over columns in dataset\n",
    "for column in dataset.columns:\n",
    "    \n",
    "    # Ensure there are missing values\n",
    "    if not dataset[dataset[column] == -9].empty:\n",
    "        \n",
    "        # Append column to the list\n",
    "        missing_ls.append(column)\n",
    "\n",
    "# Print list with columns that have missing values \n",
    "print(\"Columns with missing values: \", missing_ls)\n",
    "\n"
   ]
  },
  {
   "cell_type": "code",
   "execution_count": 28,
   "metadata": {},
   "outputs": [
    {
     "data": {
      "text/html": [
       "<div>\n",
       "<style scoped>\n",
       "    .dataframe tbody tr th:only-of-type {\n",
       "        vertical-align: middle;\n",
       "    }\n",
       "\n",
       "    .dataframe tbody tr th {\n",
       "        vertical-align: top;\n",
       "    }\n",
       "\n",
       "    .dataframe thead th {\n",
       "        text-align: right;\n",
       "    }\n",
       "</style>\n",
       "<table border=\"1\" class=\"dataframe\">\n",
       "  <thead>\n",
       "    <tr style=\"text-align: right;\">\n",
       "      <th></th>\n",
       "      <th>age</th>\n",
       "      <th>sex</th>\n",
       "      <th>cp</th>\n",
       "      <th>trestbps</th>\n",
       "      <th>chol</th>\n",
       "      <th>fbs</th>\n",
       "      <th>restecg</th>\n",
       "      <th>thalach</th>\n",
       "      <th>exang</th>\n",
       "      <th>oldpeak</th>\n",
       "      <th>slope</th>\n",
       "      <th>ca</th>\n",
       "      <th>thal</th>\n",
       "      <th>target</th>\n",
       "    </tr>\n",
       "  </thead>\n",
       "  <tbody>\n",
       "    <tr>\n",
       "      <th>166</th>\n",
       "      <td>52</td>\n",
       "      <td>1</td>\n",
       "      <td>3</td>\n",
       "      <td>138</td>\n",
       "      <td>223</td>\n",
       "      <td>0</td>\n",
       "      <td>0</td>\n",
       "      <td>169</td>\n",
       "      <td>0</td>\n",
       "      <td>0.0</td>\n",
       "      <td>1</td>\n",
       "      <td>-9</td>\n",
       "      <td>3</td>\n",
       "      <td>0</td>\n",
       "    </tr>\n",
       "    <tr>\n",
       "      <th>192</th>\n",
       "      <td>43</td>\n",
       "      <td>1</td>\n",
       "      <td>4</td>\n",
       "      <td>132</td>\n",
       "      <td>247</td>\n",
       "      <td>1</td>\n",
       "      <td>2</td>\n",
       "      <td>143</td>\n",
       "      <td>1</td>\n",
       "      <td>0.1</td>\n",
       "      <td>2</td>\n",
       "      <td>-9</td>\n",
       "      <td>7</td>\n",
       "      <td>1</td>\n",
       "    </tr>\n",
       "    <tr>\n",
       "      <th>287</th>\n",
       "      <td>58</td>\n",
       "      <td>1</td>\n",
       "      <td>2</td>\n",
       "      <td>125</td>\n",
       "      <td>220</td>\n",
       "      <td>0</td>\n",
       "      <td>0</td>\n",
       "      <td>144</td>\n",
       "      <td>0</td>\n",
       "      <td>0.4</td>\n",
       "      <td>2</td>\n",
       "      <td>-9</td>\n",
       "      <td>7</td>\n",
       "      <td>0</td>\n",
       "    </tr>\n",
       "    <tr>\n",
       "      <th>302</th>\n",
       "      <td>38</td>\n",
       "      <td>1</td>\n",
       "      <td>3</td>\n",
       "      <td>138</td>\n",
       "      <td>175</td>\n",
       "      <td>0</td>\n",
       "      <td>0</td>\n",
       "      <td>173</td>\n",
       "      <td>0</td>\n",
       "      <td>0.0</td>\n",
       "      <td>1</td>\n",
       "      <td>-9</td>\n",
       "      <td>3</td>\n",
       "      <td>0</td>\n",
       "    </tr>\n",
       "  </tbody>\n",
       "</table>\n",
       "</div>"
      ],
      "text/plain": [
       "     age  sex  cp  trestbps  chol  fbs  restecg  thalach  exang  oldpeak  \\\n",
       "166   52    1   3       138   223    0        0      169      0      0.0   \n",
       "192   43    1   4       132   247    1        2      143      1      0.1   \n",
       "287   58    1   2       125   220    0        0      144      0      0.4   \n",
       "302   38    1   3       138   175    0        0      173      0      0.0   \n",
       "\n",
       "     slope  ca  thal  target  \n",
       "166      1  -9     3       0  \n",
       "192      2  -9     7       1  \n",
       "287      2  -9     7       0  \n",
       "302      1  -9     3       0  "
      ]
     },
     "execution_count": 28,
     "metadata": {},
     "output_type": "execute_result"
    }
   ],
   "source": [
    "dataset[dataset[\"ca\"] == -9]"
   ]
  },
  {
   "cell_type": "code",
   "execution_count": 29,
   "metadata": {},
   "outputs": [
    {
     "data": {
      "text/html": [
       "<div>\n",
       "<style scoped>\n",
       "    .dataframe tbody tr th:only-of-type {\n",
       "        vertical-align: middle;\n",
       "    }\n",
       "\n",
       "    .dataframe tbody tr th {\n",
       "        vertical-align: top;\n",
       "    }\n",
       "\n",
       "    .dataframe thead th {\n",
       "        text-align: right;\n",
       "    }\n",
       "</style>\n",
       "<table border=\"1\" class=\"dataframe\">\n",
       "  <thead>\n",
       "    <tr style=\"text-align: right;\">\n",
       "      <th></th>\n",
       "      <th>age</th>\n",
       "      <th>sex</th>\n",
       "      <th>cp</th>\n",
       "      <th>trestbps</th>\n",
       "      <th>chol</th>\n",
       "      <th>fbs</th>\n",
       "      <th>restecg</th>\n",
       "      <th>thalach</th>\n",
       "      <th>exang</th>\n",
       "      <th>oldpeak</th>\n",
       "      <th>slope</th>\n",
       "      <th>ca</th>\n",
       "      <th>thal</th>\n",
       "      <th>target</th>\n",
       "    </tr>\n",
       "  </thead>\n",
       "  <tbody>\n",
       "    <tr>\n",
       "      <th>87</th>\n",
       "      <td>53</td>\n",
       "      <td>0</td>\n",
       "      <td>3</td>\n",
       "      <td>128</td>\n",
       "      <td>216</td>\n",
       "      <td>0</td>\n",
       "      <td>2</td>\n",
       "      <td>115</td>\n",
       "      <td>0</td>\n",
       "      <td>0.0</td>\n",
       "      <td>1</td>\n",
       "      <td>0</td>\n",
       "      <td>-9</td>\n",
       "      <td>0</td>\n",
       "    </tr>\n",
       "    <tr>\n",
       "      <th>266</th>\n",
       "      <td>52</td>\n",
       "      <td>1</td>\n",
       "      <td>4</td>\n",
       "      <td>128</td>\n",
       "      <td>204</td>\n",
       "      <td>1</td>\n",
       "      <td>0</td>\n",
       "      <td>156</td>\n",
       "      <td>1</td>\n",
       "      <td>1.0</td>\n",
       "      <td>2</td>\n",
       "      <td>0</td>\n",
       "      <td>-9</td>\n",
       "      <td>2</td>\n",
       "    </tr>\n",
       "  </tbody>\n",
       "</table>\n",
       "</div>"
      ],
      "text/plain": [
       "     age  sex  cp  trestbps  chol  fbs  restecg  thalach  exang  oldpeak  \\\n",
       "87    53    0   3       128   216    0        2      115      0      0.0   \n",
       "266   52    1   4       128   204    1        0      156      1      1.0   \n",
       "\n",
       "     slope  ca  thal  target  \n",
       "87       1   0    -9       0  \n",
       "266      2   0    -9       2  "
      ]
     },
     "execution_count": 29,
     "metadata": {},
     "output_type": "execute_result"
    }
   ],
   "source": [
    "dataset[dataset[\"thal\"] == -9]"
   ]
  },
  {
   "cell_type": "markdown",
   "metadata": {},
   "source": [
    "# Demographic Data Exhibition"
   ]
  },
  {
   "cell_type": "code",
   "execution_count": 5,
   "metadata": {},
   "outputs": [
    {
     "data": {
      "image/png": "[encoded data removed]",
      "text/plain": [
       "<Figure size 432x288 with 1 Axes>"
      ]
     },
     "metadata": {},
     "output_type": "display_data"
    }
   ],
   "source": [
    "# Gender \n",
    "# 1 - male, 0 - female\n",
    "total_count = len(dataset)\n",
    "male_count = dataset[dataset[\"sex\"] == 1].shape[0]\n",
    "female_count = total_count - male_count\n",
    "\n",
    "# Labels\n",
    "percent = [male_count/total_count, female_count/total_count]\n",
    "labels = [f\"Male\\n(\"+str(male_count)+\")\", f\"Female\\n(\"+str(female_count)+\")\"]\n",
    "\n",
    "# Figure\n",
    "fig1, ax1 = plt.subplots()\n",
    "\n",
    "# Pie Chart\n",
    "patches, texts, autotexts  = ax1.pie(percent, labels=labels, autopct='%1.2f%%',\n",
    "        shadow=True, startangle=90)\n",
    "\n",
    "# Title\n",
    "ax1.set_title(\"Gender Distribution\", fontsize = 18, fontweight = \"bold\")\n",
    "\n",
    "# Change text color, wieght and size\n",
    "for autotext,text in zip(autotexts,texts):\n",
    "    autotext.set_color(\"w\")\n",
    "    autotext.set_size(15)\n",
    "    autotext.set_weight(\"bold\")\n",
    "    text.set_size(15)\n",
    "    text.set_weight(\"bold\")\n",
    "    \n",
    "ax1.axis('equal')  # Equal aspect ratio ensures that pie is drawn as a circle.\n",
    "\n",
    "plt.show()"
   ]
  },
  {
   "cell_type": "markdown",
   "metadata": {},
   "source": [
    "# Age Distribution"
   ]
  },
  {
   "cell_type": "code",
   "execution_count": 6,
   "metadata": {},
   "outputs": [
    {
     "name": "stdout",
     "output_type": "stream",
     "text": [
      "Maximum age: 77\n",
      "Minimum age: 29\n"
     ]
    }
   ],
   "source": [
    "# Age \n",
    "\n",
    "min_age, max_age = dataset[\"age\"][dataset[\"age\"].idxmin].item(), dataset[\"age\"][dataset[\"age\"].idxmax].item()\n",
    "\n",
    "print(\"Maximum age: \"+ str(max_age))\n",
    "print(\"Minimum age: \"+ str(min_age))"
   ]
  },
  {
   "cell_type": "code",
   "execution_count": 7,
   "metadata": {},
   "outputs": [
    {
     "data": {
      "image/png": "[encoded data removed]",
      "text/plain": [
       "<Figure size 1080x288 with 1 Axes>"
      ]
     },
     "metadata": {
      "needs_background": "light"
     },
     "output_type": "display_data"
    }
   ],
   "source": [
    "# Counter and empty list\n",
    "age_dict = Counter()\n",
    "labels = []\n",
    "age_groups_dict = Counter()\n",
    "age_ls = dataset[\"age\"].tolist()\n",
    "\n",
    "# Count age\n",
    "for age in age_ls:\n",
    "    age_dict[age] += 1\n",
    "\n",
    "# Sorted age and get keys\n",
    "sorted_age_dict = dict(sorted(age_dict.items(), key = lambda x: x[0]))\n",
    "keys = set(sorted_age_dict.keys())\n",
    "\n",
    "# Iterate over age with steps of 5\n",
    "for i, age in enumerate(range(min_age, max_age, 5)):\n",
    "    \n",
    "    # Append label for that age group\n",
    "    labels.append(str(age)+\"-\"+str(age+4))\n",
    "    \n",
    "    # Iterate over ages in that age group\n",
    "    for index in range(age,age+5,1):\n",
    "        \n",
    "        # Ensure there are patients in that age\n",
    "        if index in keys:\n",
    "            \n",
    "            # Sum number of people in that age group\n",
    "            age_groups_dict[i] += sorted_age_dict[index]\n",
    "\n",
    "# Convert dictionary to list in order to show in a graph\n",
    "count = [value for value in age_groups_dict.values()]\n",
    "\n",
    "# Figure - Bar \n",
    "plt.figure(figsize=(15,4))\n",
    "plt.bar(labels,count)\n",
    "plt.title('Sample Population', fontsize=18)\n",
    "plt.xlabel('Age Groups', fontsize=18)\n",
    "plt.xticks(fontsize=18)\n",
    "plt.ylabel('Count', fontsize=18)\n",
    "plt.yticks(fontsize=18)\n",
    "plt.grid(True)\n",
    "plt.show()"
   ]
  },
  {
   "cell_type": "markdown",
   "metadata": {},
   "source": [
    "# Medical History"
   ]
  },
  {
   "cell_type": "code",
   "execution_count": 8,
   "metadata": {},
   "outputs": [],
   "source": [
    "# Heart Disease Distribution\n",
    "healthy = dataset[dataset[\"target\"] == 0].shape[0]\n",
    "sick = dataset[dataset[\"target\"] > 0].shape[0]\n",
    "\n",
    "# Age distribution among healthy patients\n",
    "healthy_men = dataset[(dataset[\"target\"] == 0) & (dataset[\"sex\"] == 1)].shape[0]\n",
    "healthy_women = healthy - healthy_men\n",
    "\n",
    "# Age distribution among sick patients\n",
    "sick_men = dataset[(dataset[\"target\"] > 0) & (dataset[\"sex\"] == 1)].shape[0]\n",
    "sick_women = sick - sick_men"
   ]
  },
  {
   "cell_type": "code",
   "execution_count": 9,
   "metadata": {},
   "outputs": [
    {
     "data": {
      "image/png": "[encoded data removed]",
      "text/plain": [
       "<Figure size 324x324 with 1 Axes>"
      ]
     },
     "metadata": {},
     "output_type": "display_data"
    },
    {
     "data": {
      "image/png": "[encoded data removed]",
      "text/plain": [
       "<Figure size 720x720 with 2 Axes>"
      ]
     },
     "metadata": {},
     "output_type": "display_data"
    },
    {
     "name": "stdout",
     "output_type": "stream",
     "text": [
      "NOTE: Numbers in parenthesis are the amount of people in that category. \n",
      "For example, Healthy(164) means that there are 164 healthy patients out of 303 patients in total\n"
     ]
    }
   ],
   "source": [
    "# Upper Pie Chart\n",
    "total_count = len(dataset)\n",
    "percent = [healthy/total_count, sick/total_count]\n",
    "labels = [f\"Healthy\\n(\"+str(healthy)+\")\", f\"Sick\\n(\"+str(sick)+\")\"]\n",
    "fig1, ax1 = plt.subplots(figsize=(4.5,4.5))\n",
    "patches, texts, autotexts  = ax1.pie(percent, labels=labels, autopct='%1.2f%%',\n",
    "        shadow=True, startangle=90, colors=[\"Green\", \"Red\"])\n",
    "\n",
    "ax1.set_title(\"Heart Disease Distribution\", fontsize = 18, fontweight = \"bold\")\n",
    "\n",
    "for autotext,text in zip(autotexts,texts):\n",
    "    autotext.set_color(\"w\")\n",
    "    autotext.set_size(15)\n",
    "    autotext.set_weight(\"bold\")\n",
    "    text.set_size(15)\n",
    "    text.set_weight(\"bold\")\n",
    "    \n",
    "plt.show()\n",
    "\n",
    "\n",
    "# Lower Pie Charts\n",
    "\n",
    "# Pie chart 1\n",
    "labels = [f\"Men\\n(\"+str(healthy_men)+\")\", f\"Women\\n(\"+str(healthy_women)+\")\"]\n",
    "percent = [healthy_men/healthy , healthy_women/healthy]\n",
    "percent2 = [sick_men/sick, sick_women/sick]\n",
    "\n",
    "fig1, (ax1, ax2) = plt.subplots(1,2,figsize=(10,10))\n",
    "patches, texts, autotexts  = ax1.pie(percent, labels=labels, autopct='%1.2f%%', shadow=True, startangle=90)\n",
    "\n",
    "for autotext,text in zip(autotexts,texts):\n",
    "    autotext.set_color(\"w\")\n",
    "    autotext.set_size(15)\n",
    "    autotext.set_weight(\"bold\")\n",
    "    text.set_size(15)\n",
    "    text.set_weight(\"bold\")\n",
    "    \n",
    "ax1.set_title(\"Gender Distribution\\n Among Healthy Patients\", fontsize = 18, fontweight = \"bold\")\n",
    "\n",
    "# Pie chart 2\n",
    "labels = [f\"Men\\n(\"+str(sick_men)+\")\", f\"Women\\n(\"+str(sick_women)+\")\"]    \n",
    "patches, texts, autotexts  = ax2.pie(percent2, labels=labels, autopct='%1.2f%%',\n",
    "        shadow=True, startangle=90)\n",
    "\n",
    "ax2.set_title(\"Gender Distribution\\n Among Sick Patients\", fontsize = 18, fontweight = \"bold\")\n",
    "\n",
    "for autotext,text in zip(autotexts,texts):\n",
    "    autotext.set_color(\"w\")\n",
    "    autotext.set_size(15)\n",
    "    autotext.set_weight(\"bold\")\n",
    "    text.set_size(15)\n",
    "    text.set_weight(\"bold\")\n",
    "    \n",
    "plt.show()\n",
    "\n",
    "print(\"NOTE: Numbers in parenthesis are the amount of people in that category.\",\n",
    "      \"\\nFor example, Healthy(164) means that there are 164 healthy patients out of 303 patients in total\")"
   ]
  }
 ],
 "metadata": {
  "kernelspec": {
   "display_name": "Python 3",
   "language": "python",
   "name": "python3"
  },
  "language_info": {
   "codemirror_mode": {
    "name": "ipython",
    "version": 3
   },
   "file_extension": ".py",
   "mimetype": "text/x-python",
   "name": "python",
   "nbconvert_exporter": "python",
   "pygments_lexer": "ipython3",
   "version": "3.8.5"
  }
 },
 "nbformat": 4,
 "nbformat_minor": 4
}
