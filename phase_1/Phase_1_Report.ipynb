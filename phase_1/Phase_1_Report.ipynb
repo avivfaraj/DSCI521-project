{
 "cells": [
  {
   "cell_type": "markdown",
   "metadata": {
    "id": "ykcTNrTkGBhC"
   },
   "source": [
    "# Phase 1 Report\n"
   ]
  },
  {
   "cell_type": "markdown",
   "metadata": {
    "id": "PnRexgBKG3Nl"
   },
   "source": [
    "## Our Team\n",
    "\n",
    "\n",
    "* **Aviv Farag** - a Data Science student with an Electrical engineering, physics, and analysis background. Aviv would like to grow on the design and large scale experiments and work with structured data rather than small scale problems. This includes the design and collection of data to be able to use his existing analytical skills.\n",
    "\n",
    "  Email: af3228@drexel.edu\n",
    "  \n",
    "  \n",
    "* **Hope Birdsong** - a Health Informatics student with a Nursing, performance and quality improvement, analysis of performance measures and systems development background. Hope would like to grow by learning more about data analysis and computer programming languages to enhance her research skills.\n",
    "\n",
    "  Email: hsb29@drexel.edu\n",
    "\n",
    "\n",
    "* **Joshua Geller** - a Data Science student with a Computer Science background.  I'd like to grow by learning about data analysis and using big data to solve real world problems. The use of data to make calculated decisions has been becoming more and more important so growing in this area will be extremely important. \n",
    "\n",
    "  Email: jg3768@drexel.edu\n",
    "\n",
    "\n",
    "* **Willie Hood** - a Bioinformatics student with a chemical engineering background. Willie's main intrests are graph theory and AI implementation in medicine. Willie would like to learn more general data analysis techniques which he could apply to his work.\n",
    "\n",
    "  Email: wh386@drexel.edu "
   ]
  },
  {
   "cell_type": "markdown",
   "metadata": {
    "id": "wHY0098nHXyp"
   },
   "source": [
    "## Project Discussion\n"
   ]
  },
  {
   "cell_type": "markdown",
   "metadata": {
    "id": "rNdmYhkcR8cF"
   },
   "source": [
    "### **The heart's purpose of sustaining life**"
   ]
  },
  {
   "cell_type": "code",
   "execution_count": 2,
   "metadata": {
    "id": "8kwnegHXR8cF",
    "outputId": "78bbd75a-f371-463c-b652-daa8ffc2586d"
   },
   "outputs": [
    {
     "data": {
      "text/html": [
       "<iframe width=\"560\" height=\"315\" src=\"https://www.youtube.com/embed/GMBSU-2GK3E\" title=\"YouTube video player\" frameborder=\"0\" allow=\"accelerometer; autoplay; clipboard-write; encrypted-media; gyroscope; picture-in-picture\" allowfullscreen></iframe>\n"
      ],
      "text/plain": [
       "<IPython.core.display.HTML object>"
      ]
     },
     "metadata": {},
     "output_type": "display_data"
    }
   ],
   "source": [
    "%%html\n",
    "<iframe width=\"560\" height=\"315\" src=\"https://www.youtube.com/embed/GMBSU-2GK3E\" title=\"YouTube video player\" frameborder=\"0\" allow=\"accelerometer; autoplay; clipboard-write; encrypted-media; gyroscope; picture-in-picture\" allowfullscreen></iframe>"
   ]
  },
  {
   "cell_type": "markdown",
   "metadata": {
    "id": "4UA2jMeWR8cG"
   },
   "source": [
    "### **Model Analysis**\n",
    "This model analysis explores heart disease among a population of males and females between 29 and 77 years of age using risk factors that determine its prevalence. The risk factors are indicators such as age, sex, chest pain (CP), resting blood pressure (trestbps), cholesterol levels (chol), fasting blood sugar (fbs), resting electrocardiogram (ecg), thalassemia (thalach), exercise induced angina (exang), ekg significant ST depression (oldpeak), the slope of the ST segment (slope), type of vessel defect (thal), and the number of major blood vessels shown on flouroscopy (ca). The values of the risk factors determine the value of the target indicator of the patient having a diagnosis of heart disease. The model will support hospital clinicians by predicting those who are at risk for heart disease. "
   ]
  },
  {
   "cell_type": "markdown",
   "metadata": {
    "id": "aPSKxeuyR8cI"
   },
   "source": [
    "### **Application**\n",
    "The analysis might fit into an application or investigation by comparing timely access to care, clinicians' disease diagnosis, and prevention treatment of those at risk for heart disease. The model would improve the quality of care by eliminating barriers to accessibility. In addition, physicians will be able to make more accurate diagnoses and predictions of heart disease. It also will assist providers in interpreting data and implementing a more predictive treatment in heart disease prevention."
   ]
  },
  {
   "cell_type": "markdown",
   "metadata": {
    "id": "rchxenaLR8cJ"
   },
   "source": [
    "### **Analysis Limitations**\n",
    "\n",
    "The limitations in the model consist of not taking into account all modifiable cardiovascular risk factors that may be reduced or controlled by altered behavior such as tobacco use, physical inactivity, obesity, stress, depression, and anger. Other limitations include not considering all non-modifiable risk factors that cannot be changed, such as ethnicity and family history."
   ]
  },
  {
   "cell_type": "markdown",
   "metadata": {
    "id": "BajCDQWXHfRE"
   },
   "source": [
    "## Data Exhibition\n",
    "\n",
    "\n"
   ]
  },
  {
   "cell_type": "markdown",
   "metadata": {
    "id": "lYBvEXlDPqvq"
   },
   "source": [
    "### **Dataset**\n",
    "\n",
    "`data.head()`\n",
    "\n",
    "![Data Sample](img/data.png)\n",
    "\n",
    "<b>Total Rows</b> = 303, &nbsp;<b>Total Columns</b> = 14\n",
    "<br> \n",
    "<b>Missing Values:</b>\n",
    "Missing values were given a unique value -9 in order to diffrentiate them from other values.\n",
    "\n",
    "1. \"ca\" is missing in 4 rows: \n",
    "![ca Missing Rows](img/ca_missing.png)\n",
    "2. \"thal\" is missing in 2 rows:\n",
    "![thal Missing Rows](img/thal_missing.png)\n",
    "\n",
    "<br>\n",
    "\n",
    "**Columns Description**\n",
    "1. Age - Age of patient in years (Integer)\n",
    "1. Sex - Gender of patient (1 = male, 0 = female)\n",
    "1. cp - Chest pain type:\n",
    "    1. Value 1: Typical Angina \n",
    "    1. Value 2: Atypical Angina\n",
    "    1. Value 3: Non-Anginal Pain\n",
    "    1. Value 4: Asymptomatic\n",
    "1. trestbps - Resting blood pressure (in mm Hg on admission to hospital)\n",
    "1. chol - Serum cholestoral in mg/dl\n",
    "1. fbs - Fasting blood sugar > 120 mg/dl <br> (1 = true, 0 = false)\n",
    "1. restecg - Resting electrocardiographic results: \n",
    "    1. Value 0: normal \n",
    "    1. Value 1: Having ST-T wave abnormality (T wave inversions and/or ST elevation or depression of > 0.05 mV)\n",
    "    1. Value 2: Showing probable or definite left ventricular hypertrophy by Estes' criteria\n",
    "1. thalach - Maximum heart rate achieved\n",
    "1. exang - Exercise Induced Angina (1 - yes, 0 = no)\n",
    "1. oldpeak - ST depression induced by exercise relative to rest \n",
    "1. slope - The slope of the peak exercise ST segment:\n",
    "    1. Value 1: Upsloping \n",
    "    1. Value 2: Flat\n",
    "    1. Value 3: Downsloping\n",
    "1. ca - Number of major vessels (0-3) colored by flourosopy\n",
    "1. thal - Has three values: \n",
    "    1. Value 3: Normal \n",
    "    1. Value 6: Fixed Defect\n",
    "    1. Value 7: Reverseable Defect \n",
    "1. target - Diagnosis of Heart Disease (Angiographic Disease Status)\n",
    "    1. Value 0: Healthy\n",
    "    1. Value 1,2,3,4: Heart Disease\n"
   ]
  },
  {
   "cell_type": "markdown",
   "metadata": {
    "id": "nrXSeChbP2C-"
   },
   "source": [
    "### **Demographic Data**\n",
    "#### <center>**Gender Distribution** </center>\n",
    "![Gender Distribution](img/gender_dist.png)\n",
    "\n",
    "**NOTE**: Numbers in parenthesis are the amount of patients in that category. \n",
    "For example, Male(206) means that there are 206 Male patients out of 303 patients in total. In this dataset the majority of the patients are Male. \n",
    "<br><br>\n",
    "\n",
    "#### <center>**Age Distribution**</center>\n",
    "<center>\n",
    "<br>\n",
    "Maximum Age = 77 \n",
    "<br>\n",
    "Minimum Age = 29\n",
    "<br>\n",
    "</center>\n",
    "<br>\n",
    "\n",
    "![Age Groups](img/sample_pop.png)\n",
    "\n",
    "<br><br>"
   ]
  },
  {
   "cell_type": "markdown",
   "metadata": {
    "id": "8Nf0YGKhP8UP"
   },
   "source": [
    "### **Medical Data**\n",
    "\n",
    "![Heart_Disease_Distribution](img/heart_disease_dist.png)\n",
    "\n",
    "**NOTE**: Numbers in parenthesis are the amount of people in that category. \n",
    "For example, Healthy(164) means that there are 164 healthy patients out of 303 patients in total\n",
    "\n",
    "<br><br>\n"
   ]
  },
  {
   "cell_type": "markdown",
   "metadata": {
    "id": "Cxr1r85vHryd"
   },
   "source": [
    "## Audience\n",
    "### **Who Might be interested?**\n",
    "  \n",
    "  Health care providers, medical providers, people over the age of 55 and those already with severe health conditions would be interested in this analysis. Health care and medical providers could utilize this analysis to make better decisions when working with a patients symptoms and can determine a diagnosis faster. People over the age of 55 and people that already have severe health conditions could use this analysis when making lifestyle decisions and would know when to go see a doctor. \n",
    "\n",
    "\n",
    "### **Analysis Dissemination**\n",
    "\n",
    "  We will complete the analysis by determining which combination of symptoms provided are more frequently leading to a patient having heart disease. We will be able to show which symptoms are more important when making a diagnosis. The analysis will be spread by informing health care providers, medical providers, people over the age of 55 and those already with severe health conditions of the findings. \n"
   ]
  },
  {
   "cell_type": "markdown",
   "metadata": {
    "id": "nFKn4fL3kr-x"
   },
   "source": [
    "## **Data Provided By**\n",
    "\n",
    "https://archive.ics.uci.edu/ml/datasets/Heart+Disease\n",
    "\n",
    "We used the \"Cleveland\" dataset which contains 303 patients. There are another 3 datasets, but they are incomplete (missing values).\n",
    "\n",
    "Creators:\n",
    "\n",
    "1. Hungarian Institute of Cardiology. Budapest: Andras Janosi, M.D.\n",
    "2. University Hospital, Zurich, Switzerland: William Steinbrunn, M.D.\n",
    "3. University Hospital, Basel, Switzerland: Matthias Pfisterer, M.D.\n",
    "4. V.A. Medical Center, Long Beach and Cleveland Clinic Foundation: Robert Detrano, M.D., Ph.D.\n",
    "\n",
    "Donor:\n",
    "\n",
    "David W. Aha (aha '@' ics.uci.edu) (714) 856-8779"
   ]
  }
 ],
 "metadata": {
  "colab": {
   "collapsed_sections": [],
   "name": "Phase_1_Report.ipynb",
   "provenance": []
  },
  "kernelspec": {
   "display_name": "Python 3",
   "language": "python",
   "name": "python3"
  },
  "language_info": {
   "codemirror_mode": {
    "name": "ipython",
    "version": 3
   },
   "file_extension": ".py",
   "mimetype": "text/x-python",
   "name": "python",
   "nbconvert_exporter": "python",
   "pygments_lexer": "ipython3",
   "version": "3.8.5"
  }
 },
 "nbformat": 4,
 "nbformat_minor": 1
}
